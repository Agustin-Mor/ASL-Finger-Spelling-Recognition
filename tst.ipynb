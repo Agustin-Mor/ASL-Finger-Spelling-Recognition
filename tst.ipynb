{
 "cells": [
  {
   "cell_type": "code",
   "execution_count": 4,
   "metadata": {},
   "outputs": [
    {
     "name": "stdout",
     "output_type": "stream",
     "text": [
      "Original DataFrame: \n",
      "    Age  Height  Weight           City\n",
      "0   28     178      70       New York\n",
      "1   35     180      85  San Francisco\n",
      "2   42     175      90    Los Angeles\n",
      "3   24     169      68        Chicago\n",
      "4   32     173      75         Boston\n",
      "\n",
      " Scaled and Normalized DataFrame: \n",
      "         Age    Height    Weight           City\n",
      "0  0.222222  0.818182  0.090909       New York\n",
      "1  0.611111  1.000000  0.772727  San Francisco\n",
      "2  1.000000  0.545455  1.000000    Los Angeles\n",
      "3  0.000000  0.000000  0.000000        Chicago\n",
      "4  0.444444  0.363636  0.318182         Boston\n"
     ]
    }
   ],
   "source": [
    "import pandas as pd\n",
    "from sklearn.preprocessing import MinMaxScaler\n",
    "\n",
    "def scale_normalize(df):\n",
    "    # identify numerical columns\n",
    "    numerical_columns = df.select_dtypes(include=['int', 'float']).columns\n",
    "    \n",
    "    # Create a scaler and fit the data\n",
    "    scaler = MinMaxScaler()\n",
    "    scaled_data = scaler.fit_transform(df[numerical_columns])\n",
    "    \n",
    "    # Create a new DataFrame to store scaled data\n",
    "    scaled_df = pd.DataFrame(scaled_data, columns=numerical_columns, index=df.index)\n",
    "    \n",
    "    # Replace the normalized columns with original columns in the data frame\n",
    "    df[numerical_columns] = scaled_df\n",
    "    \n",
    "    return df\n",
    "\n",
    "#Example usage:\n",
    "if __name__ == \"__main__\":\n",
    "        \n",
    "    #Sample Data\n",
    "    data = {\n",
    "        \"Age\": [28, 35, 42, 24, 32],\n",
    "        \"Height\": [178, 180, 175, 169, 173],\n",
    "        \"Weight\": [70, 85, 90, 68, 75],\n",
    "        \"City\": [\"New York\", \"San Francisco\", \"Los Angeles\", \"Chicago\", \"Boston\"]\n",
    "    }\n",
    "    #Create a DataFrame\n",
    "    df = pd.DataFrame(data)\n",
    "    \n",
    "    print(\"Original DataFrame: \\n\", df)\n",
    "    \n",
    "    #Scale and normalize the data\n",
    "    scaled_df = scale_normalize(df)\n",
    "    \n",
    "    print(\"\\n Scaled and Normalized DataFrame: \\n\",scaled_df)"
   ]
  },
  {
   "cell_type": "code",
   "execution_count": 2,
   "metadata": {},
   "outputs": [
    {
     "name": "stdout",
     "output_type": "stream",
     "text": [
      "   feature1  feature2 feature3  target\n",
      "0     0.500  0.000000        A     1.0\n",
      "1     0.000  1.000000        D     0.0\n",
      "2     0.375  0.683908        B     1.0\n",
      "3     1.000  0.528736        C     0.0\n"
     ]
    }
   ],
   "source": [
    "import pandas as pd\n",
    "from sklearn.preprocessing import MinMaxScaler\n",
    "\n",
    "def scale_normalize(df):\n",
    "    # Identify numerical features\n",
    "    numerical_features = df.select_dtypes(include=['int64', 'float64']).columns.tolist()\n",
    "    \n",
    "    # Create a scaler and scale the numerical features\n",
    "    scaler = MinMaxScaler()\n",
    "    scaled_df = df.copy()\n",
    "    scaled_df[numerical_features] = scaler.fit_transform(df[numerical_features])\n",
    "    \n",
    "    return scaled_df\n",
    "\n",
    "#Sample data\n",
    "data = {\n",
    "        'feature1': [3, -1, 2, 7],\n",
    "        'feature2': [0.1, 17.5, 12.0, 9.3],\n",
    "        'feature3': ['A', 'D', 'B', 'C'],\n",
    "        'target': [1, 0, 1, 0]\n",
    "       }\n",
    "\n",
    "#Create DataFrame\n",
    "df = pd.DataFrame(data)\n",
    "\n",
    "#Scale and normalize data \n",
    "df_scaled = scale_normalize(df)\n",
    "\n",
    "print(df_scaled)"
   ]
  }
 ],
 "metadata": {
  "kernelspec": {
   "display_name": "Python 3",
   "language": "python",
   "name": "python3"
  },
  "language_info": {
   "codemirror_mode": {
    "name": "ipython",
    "version": 3
   },
   "file_extension": ".py",
   "mimetype": "text/x-python",
   "name": "python",
   "nbconvert_exporter": "python",
   "pygments_lexer": "ipython3",
   "version": "3.10.12"
  }
 },
 "nbformat": 4,
 "nbformat_minor": 2
}
